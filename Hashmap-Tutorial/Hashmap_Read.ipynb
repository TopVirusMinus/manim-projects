{
 "cells": [
  {
   "cell_type": "code",
   "execution_count": 2,
   "metadata": {},
   "outputs": [
    {
     "data": {
      "text/html": [
       "<pre style=\"white-space:pre;overflow-x:auto;line-height:normal;font-family:Menlo,'DejaVu Sans Mono',consolas,'Courier New',monospace\">Manim Community <span style=\"color: #008000; text-decoration-color: #008000\">v0.16.0.post0</span>\n",
       "\n",
       "</pre>\n"
      ],
      "text/plain": [
       "Manim Community \u001b[32mv0.\u001b[0m\u001b[32m16.0\u001b[0m\u001b[32m.post0\u001b[0m\n",
       "\n"
      ]
     },
     "metadata": {},
     "output_type": "display_data"
    }
   ],
   "source": [
    "from manim import *\n",
    "config.media_width = '60%'"
   ]
  },
  {
   "cell_type": "code",
   "execution_count": 3,
   "metadata": {},
   "outputs": [
    {
     "name": "stderr",
     "output_type": "stream",
     "text": [
      "                                                                                                         \r"
     ]
    },
    {
     "data": {
      "text/html": [
       "<video src=\"media\\jupyter\\HashmapRead@2022-11-24@14-48-41.mp4\" controls autoplay loop style=\"max-width: 60%;\"  >\n",
       "      Your browser does not support the <code>video</code> element.\n",
       "    </video>"
      ],
      "text/plain": [
       "<IPython.core.display.Video object>"
      ]
     },
     "metadata": {},
     "output_type": "display_data"
    }
   ],
   "source": [
    "%%manim -v WARNING -qh HashmapRead\n",
    "class HashmapRead(Scene):\n",
    "    def construct(self):\n",
    "        SQUARE_SIZE = 0.7\n",
    "        ARRAY_LEN = 8\n",
    "        RANDOM_NAMES = [\"Hamada\",\"Waleed\",\"Marzouk\",\"Kareem\",\"Ashraf\",\"Mustafa\",\"Ahmed\",\"Youssef\"]\n",
    "        \n",
    "        old_code = '''\n",
    "            id_to_name = {}\n",
    "            id_to_name['195'] = \"Ahmed\"\n",
    "            id_to_name['136'] = \"Kareem\"\n",
    "            id_to_name['323'] = \"Waleed\"\n",
    "            id_to_name['493'] = \"Youssef\"\n",
    "            id_to_name['254'] = \"Anas\"\n",
    "            id_to_name['126'] = \"Hamada\"\n",
    "            id_to_name['536'] = \"Ashraf\"\n",
    "            id_to_name['852'] = \"Mustafa\"\n",
    "'''\n",
    "        hashmap_code = ''' \n",
    "            id_to_name = {\n",
    "                \n",
    "                '136': 'Kareem'  , '493': 'Youssef',\n",
    "                '852': 'Mustafa' , '126': 'Hamada',\n",
    "                '323': 'Waleed'  , '536': 'Ashraf',\n",
    "                '254': 'Anas'    , '195': 'Ahmed'\n",
    "            }\n",
    "        '''\n",
    "        code = '''\n",
    "            print(id_to_name['495'])\n",
    "''' \n",
    "\n",
    "        sq = VGroup(*[Rectangle(width=SQUARE_SIZE*5,height=SQUARE_SIZE, color=DARK_GRAY) for i in range(ARRAY_LEN)]).arrange(DOWN, buff=0.1).to_edge(RIGHT)\n",
    "        names = VGroup(*[Tex(RANDOM_NAMES[i], color=WHITE).move_to(sq[i].get_critical_point([0,0,0])) for i in range(ARRAY_LEN)])\n",
    "        \n",
    "        newLabel = Tex(r\"id\\_to\\_name\").next_to(sq[0], UP)\n",
    "        funcFrame = Rectangle(width=2, height=1).to_edge(LEFT, buff=2).shift(DOWN*2)\n",
    "        hashfnq = always_redraw(lambda: Tex(\"HashFunction\").next_to(funcFrame, UP, buff=1))\n",
    "        fx = always_redraw(lambda: Tex(\"f(x)\").next_to(hashfnq, DOWN))\n",
    "\n",
    "        idxs = always_redraw(lambda: VGroup(*[Tex(i,font_size=25, color=LIGHT_GRAY).move_to(sq[i].get_critical_point(LEFT)).shift(LEFT * 0.2) for i in range(ARRAY_LEN)]))\n",
    "        old_rendered_code = Code(code=old_code, tab_width=4, background=\"window\", language=\"Python\", font=\"Monospace\").scale(0.8).align_to(sq[0], UP).align_to(funcFrame, LEFT)\n",
    "        hashmap_rendered_code = Code(code=hashmap_code, tab_width=4, background=\"window\", language=\"Python\", font=\"Monospace\").scale(0.8).align_to(sq[0], UP).align_to(funcFrame, LEFT)\n",
    "        rendered_code = Code(code=code, tab_width=4, background=\"window\", language=\"Python\", font=\"Monospace\").scale(0.8).align_to(hashmap_rendered_code, RIGHT)\n",
    "        \n",
    "        self.add(newLabel)\n",
    "        self.add(old_rendered_code)\n",
    "        self.add(*[s for s in sq],*[i for i in idxs],*[n for n in names])        \n",
    "        self.add(VGroup(funcFrame, hashfnq, fx))\n",
    "        self.play(FadeOut(old_rendered_code, shift=DOWN))\n",
    "        self.play(FadeIn(hashmap_rendered_code, shift=DOWN))\n",
    "        self.play(FadeIn(rendered_code, shift=UP))\n",
    "        self.wait()\n",
    "    \n",
    "        tex = MathTex(\"495\", r\"\\,\\%\\, 7\").move_to(funcFrame.get_center())\n",
    "        mod = tex[1].copy().set_color(BLUE).next_to(funcFrame, UR)\n",
    "        \n",
    "        curr_id = Tex(\"495\", color=GREEN).move_to(funcFrame.get_critical_point(LEFT)).shift(LEFT)\n",
    "        self.play(Write(curr_id))\n",
    "        #self.play(curr_id.animate.move_to(funcFrame.get_critical_point([0,0,0])))\n",
    "        new_index = Tex(\"7\", color=BLUE_C).move_to(funcFrame.get_critical_point(RIGHT)).shift(RIGHT)\n",
    "        #self.play(ReplacementTransform(curr_id, new_index))\n",
    "        self.play(AnimationGroup(curr_id.animate.move_to(tex[0]), GrowFromCenter(mod),mod.animate.move_to(tex[1]))) \n",
    "        self.play(ReplacementTransform(VGroup(curr_id, mod), new_index))\n",
    "\n",
    "        arr = Arrow(start=new_index.get_critical_point(RIGHT), end=idxs[7].get_critical_point(LEFT))\n",
    "        self.play(Write(arr))\n",
    "        self.play(AnimationGroup(sq[7].animate.set_color(YELLOW), names[7].animate.set_color(RED)))\n",
    "        self.play(FadeOut(VGroup(arr,new_index)))\n",
    "        self.play(AnimationGroup(FadeToColor(sq[7], DARK_GRAY), FadeToColor(names[7], WHITE)))\n",
    "        timecplx = Tex(\"Time Complexity O(1)\").next_to(funcFrame.get_critical_point(RIGHT)).shift(RIGHT/2).align_to(funcFrame, UP)\n",
    "        self.play(Write(timecplx))\n",
    "        self.wait()\n",
    "        qs = Tex(\"?????\", color=YELLOW).next_to(timecplx, DOWN)\n",
    "        self.play(Write(qs))\n",
    "        self.wait()\n",
    "        #self.play(FadeOut(VGroup(qs, hashmap_rendered_code,rendered_code, sq, names, idxs,newLabel, funcFrame, hashfnq, fx, timecplx), shift=DOWN))\n",
    "        self.wait()"
   ]
  }
 ],
 "metadata": {
  "kernelspec": {
   "display_name": "Python 3.10.8 64-bit",
   "language": "python",
   "name": "python3"
  },
  "language_info": {
   "codemirror_mode": {
    "name": "ipython",
    "version": 3
   },
   "file_extension": ".py",
   "mimetype": "text/x-python",
   "name": "python",
   "nbconvert_exporter": "python",
   "pygments_lexer": "ipython3",
   "version": "3.10.8"
  },
  "orig_nbformat": 4,
  "vscode": {
   "interpreter": {
    "hash": "369f2c481f4da34e4445cda3fffd2e751bd1c4d706f27375911949ba6bb62e1c"
   }
  }
 },
 "nbformat": 4,
 "nbformat_minor": 2
}
