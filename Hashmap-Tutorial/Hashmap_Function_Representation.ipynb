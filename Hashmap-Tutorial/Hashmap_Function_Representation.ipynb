{
 "cells": [
  {
   "cell_type": "code",
   "execution_count": 2,
   "metadata": {},
   "outputs": [
    {
     "data": {
      "text/html": [
       "<pre style=\"white-space:pre;overflow-x:auto;line-height:normal;font-family:Menlo,'DejaVu Sans Mono',consolas,'Courier New',monospace\">Manim Community <span style=\"color: #008000; text-decoration-color: #008000\">v0.16.0.post0</span>\n",
       "\n",
       "</pre>\n"
      ],
      "text/plain": [
       "Manim Community \u001b[32mv0.\u001b[0m\u001b[32m16.0\u001b[0m\u001b[32m.post0\u001b[0m\n",
       "\n"
      ]
     },
     "metadata": {},
     "output_type": "display_data"
    }
   ],
   "source": [
    "from manim import *\n",
    "config.media_width = '60%'"
   ]
  },
  {
   "cell_type": "code",
   "execution_count": 1,
   "metadata": {},
   "outputs": [
    {
     "name": "stderr",
     "output_type": "stream",
     "text": [
      "UsageError: Cell magic `%%manim` not found.\n"
     ]
    }
   ],
   "source": [
    "%%manim -v WARNING -qh HashmapWrite\n",
    "from manim.utils.color import Colors\n",
    "class HashmapWrite(Scene):\n",
    "    def construct(self):\n",
    "        SQUARE_SIZE = 0.7\n",
    "        ARRAY_LEN = 8\n",
    "        RANDOM_NAMES = [\"Hamada\",\"Waleed\",\"Anas\",\"Kareem\",\"Ashraf\",\"Mustafa\",\"Ahmed\",\"Youssef\"]\n",
    "        RANDOM_NUMS = [\"126\",\"323\",\"254\",\"136\",\"536\",\"859\",\"195\",\"493\"]\n",
    "        INDEXES = [\"6\",\"3\",\"1\",\"7\",\"2\",\"0\",\"4\",\"5\"]\n",
    "        \n",
    "        code = '''\n",
    "            id_to_name = {}\n",
    "            id_to_name['195'] = \"Ahmed\"\n",
    "            id_to_name['136'] = \"Kareem\"\n",
    "            id_to_name['323'] = \"Waleed\"\n",
    "            id_to_name['493'] = \"Youssef\"\n",
    "            id_to_name['254'] = \"Anas\"\n",
    "            id_to_name['126'] = \"Hamada\"\n",
    "            id_to_name['536'] = \"Ashraf\"\n",
    "            id_to_name['852'] = \"Mustafa\"\n",
    "'''\n",
    "        \n",
    "        funcFrame = Rectangle(width=2, height=1).to_edge(LEFT, buff=2)\n",
    "        hashfnq = always_redraw(lambda: Tex(\"HashFunction\").next_to(funcFrame, UP, buff=1))\n",
    "        fx = always_redraw(lambda: Tex(\"f(x)\").next_to(hashfnq, DOWN))\n",
    "        \n",
    "        sq = VGroup(*[Rectangle(width=SQUARE_SIZE*5,height=SQUARE_SIZE, color=DARK_GRAY) for i in range(ARRAY_LEN)]).arrange(DOWN, buff=0.1).to_edge(RIGHT, buff=0)\n",
    "        idxs = always_redraw(lambda: VGroup(*[Tex(i,font_size=25, color=LIGHT_GRAY).move_to(sq[i].get_critical_point(LEFT)).shift(LEFT * 0.2) for i in range(ARRAY_LEN)]))\n",
    "        names = VGroup(*[Tex(RANDOM_NAMES[i], color=DARK_GRAY).move_to(sq[i].get_critical_point([0,0,0])) for i in range(ARRAY_LEN)])\n",
    "        nameLabel = Tex(\"Names\",color=LIGHTER_GRAY).next_to(sq[0], UP)\n",
    "        newLabel = Tex(r\"id\\_to\\_name\").next_to(nameLabel, ORIGIN)\n",
    "        rendered_code = Code(code=code, tab_width=4, background=\"window\", language=\"Python\", font=\"Monospace\").scale(0.8).align_to(sq[0], UP).align_to(funcFrame, LEFT)\n",
    "        \n",
    "        self.add(nameLabel)\n",
    "        self.add(*[s for s in sq],*[i for i in idxs])        \n",
    "        self.add(funcFrame, hashfnq, fx)\n",
    "        self.play(funcFrame.animate.shift(DOWN*2))\n",
    "        self.wait()\n",
    "        self.play(Write(rendered_code))\n",
    "        self.play(ReplacementTransform(nameLabel, newLabel))\n",
    "        self.wait()\n",
    "        for i in range(ARRAY_LEN):\n",
    "            curr_i = int(INDEXES[i])\n",
    "            curr_id = Tex(RANDOM_NUMS[curr_i], color=GREEN).move_to(funcFrame.get_critical_point(LEFT)).shift(LEFT)\n",
    "            \n",
    "            tex = MathTex(RANDOM_NUMS[curr_i], r\"\\,\\%\\, 7\").move_to(funcFrame.get_center())\n",
    "            mod = tex[1].copy().set_color(BLUE).next_to(funcFrame, UR)\n",
    "            \n",
    "            self.play(AnimationGroup(curr_id.animate.move_to(tex[0]), GrowFromCenter(mod),mod.animate.move_to(tex[1])))            \n",
    "            #self.play(curr_id.animate.move_to(funcFrame.get_center()))\n",
    "            \n",
    "            new_index = Tex(INDEXES[i], color=GOLD).move_to(funcFrame.get_critical_point(RIGHT)).shift(RIGHT)\n",
    "            self.play(ReplacementTransform(VGroup(curr_id, mod), new_index))\n",
    "            \n",
    "            arr = Arrow(start=new_index.get_critical_point(RIGHT), end=idxs[curr_i].get_critical_point(LEFT))\n",
    "            new_value = Tex(RANDOM_NAMES[curr_i]).move_to(sq[curr_i].get_critical_point(ORIGIN))\n",
    "            \n",
    "            self.play(Write(arr))\n",
    "            self.play(Write(new_value))\n",
    "            \n",
    "            self.play(FadeOut(VGroup(arr, curr_id,new_index,mod)))\n",
    "        self.wait()\n",
    "        code = '''\n",
    "            id_to_name = {}\n",
    "            id_to_name['195'] = \"Ahmed\"\n",
    "            id_to_name['136'] = \"Kareem\"\n",
    "            id_to_name['323'] = \"Waleed\"\n",
    "            id_to_name['493'] = \"Youssef\"\n",
    "            id_to_name['254'] = \"Anas\"\n",
    "            id_to_name['126'] = \"Hamada\"\n",
    "            id_to_name['536'] = \"Ashraf\"\n",
    "            id_to_name['852'] = \"Mustafa\"\n",
    "        '''"
   ]
  }
 ],
 "metadata": {
  "kernelspec": {
   "display_name": "Python 3.10.8 64-bit",
   "language": "python",
   "name": "python3"
  },
  "language_info": {
   "codemirror_mode": {
    "name": "ipython",
    "version": 3
   },
   "file_extension": ".py",
   "mimetype": "text/x-python",
   "name": "python",
   "nbconvert_exporter": "python",
   "pygments_lexer": "ipython3",
   "version": "3.10.8"
  },
  "orig_nbformat": 4,
  "vscode": {
   "interpreter": {
    "hash": "369f2c481f4da34e4445cda3fffd2e751bd1c4d706f27375911949ba6bb62e1c"
   }
  }
 },
 "nbformat": 4,
 "nbformat_minor": 2
}
