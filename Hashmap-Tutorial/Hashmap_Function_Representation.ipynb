{
 "cells": [
  {
   "cell_type": "code",
   "execution_count": 2,
   "metadata": {},
   "outputs": [],
   "source": [
    "from manim import *\n",
    "config.media_width = '60%'"
   ]
  },
  {
   "cell_type": "code",
   "execution_count": 122,
   "metadata": {},
   "outputs": [
    {
     "name": "stderr",
     "output_type": "stream",
     "text": [
      "                                                                                        \r"
     ]
    },
    {
     "data": {
      "text/html": [
       "<video src=\"media\\jupyter\\SequentialSearch@2022-11-17@00-49-17.mp4\" controls autoplay loop style=\"max-width: 60%;\"  >\n",
       "      Your browser does not support the <code>video</code> element.\n",
       "    </video>"
      ],
      "text/plain": [
       "<IPython.core.display.Video object>"
      ]
     },
     "metadata": {},
     "output_type": "display_data"
    }
   ],
   "source": [
    "%%manim -v WARNING -qm SequentialSearch\n",
    "from manim.utils.color import Colors\n",
    "class SequentialSearch(Scene):\n",
    "    def construct(self):\n",
    "        SQUARE_SIZE = 0.7\n",
    "        ARRAY_LEN = 15\n",
    "        RANDOM_NUMS = [\"U\",\"N\",\"C\",\"O\",\"P\",\"Y\",\"R\",\"I\",\"G\",\"H\",\"T\",\"A\",\"B\",\"L\",\"E\"]\n",
    "        idx = 0\n",
    "        \n",
    "        sq = VGroup(*[Square(side_length=SQUARE_SIZE/1.7) for i in range(ARRAY_LEN)]).arrange(DOWN, buff=0.1).to_edge(RIGHT)\n",
    "        idxs = always_redraw(lambda: VGroup(*[Tex(i,font_size=25, color=LIGHT_GRAY).move_to(sq[i].get_critical_point(LEFT)).shift(LEFT * 0.2) for i in range(ARRAY_LEN)]))\n",
    "        nums = always_redraw(lambda: VGroup(*[Tex(RANDOM_NUMS[i], font_size=35).move_to(sq[i].get_critical_point([0,0,0])) for i in range(ARRAY_LEN)]))\n",
    "        \n",
    "        rec = Rectangle(width=2, height=1)\n",
    "        hashfnq = Tex(\"HashFunction\").next_to(rec, UP, buff=1)\n",
    "        fx = Tex(\"f(x)\").next_to(hashfnq, DOWN)\n",
    "        #randomeqn = MathTex(r\"{\\frac {\\sum _{j=0}^{m-1}(b_{j})(b_{j}+1)/2}{(n/2m)(n+2m-1)}}\").move_to(rec.get_critical_point([0,0,0])).scale(0.7)\n",
    "        target = Tex(\"C\", color=Colors.green_c.value).next_to(rec, LEFT, buff=2)\n",
    "        arrow_out = Arrow(start=rec.get_critical_point(RIGHT), end=sq[2].get_critical_point(LEFT),buff=0.4)\n",
    "        target.save_state()\n",
    "        target_idx = Tex(\"2\").next_to(rec, RIGHT, buff=0.1)\n",
    "        \n",
    "        self.play(AnimationGroup(*[DrawBorderThenFill(s) for s in sq], *[FadeIn(n) for n in nums],*[FadeIn(i) for i in idxs], lag_ratio=0.02))        \n",
    "        self.play(DrawBorderThenFill(rec))\n",
    "        self.play(Write(hashfnq))\n",
    "        self.play(Write(fx))\n",
    "        self.play(Write(target))\n",
    "        self.play(target.animate.move_to(rec.get_critical_point([0,0,0])))\n",
    "        self.play(Rotate(target, -1800*DEGREES, about_point=ORIGIN))\n",
    "        self.play(Write(target_idx))\n",
    "        target_idx.color = RED\n",
    "        self.play(Write(arrow_out), Restore(target))\n",
    "        \n",
    "        self.wait()"
   ]
  }
 ],
 "metadata": {
  "kernelspec": {
   "display_name": "Python 3.10.8 64-bit",
   "language": "python",
   "name": "python3"
  },
  "language_info": {
   "codemirror_mode": {
    "name": "ipython",
    "version": 3
   },
   "file_extension": ".py",
   "mimetype": "text/x-python",
   "name": "python",
   "nbconvert_exporter": "python",
   "pygments_lexer": "ipython3",
   "version": "3.10.8"
  },
  "orig_nbformat": 4,
  "vscode": {
   "interpreter": {
    "hash": "369f2c481f4da34e4445cda3fffd2e751bd1c4d706f27375911949ba6bb62e1c"
   }
  }
 },
 "nbformat": 4,
 "nbformat_minor": 2
}
