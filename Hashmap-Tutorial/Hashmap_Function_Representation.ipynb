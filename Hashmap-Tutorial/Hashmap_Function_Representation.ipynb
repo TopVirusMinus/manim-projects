{
 "cells": [
  {
   "cell_type": "code",
   "execution_count": 5,
   "metadata": {},
   "outputs": [],
   "source": [
    "from manim import *\n",
    "config.media_width = '60%'"
   ]
  },
  {
   "cell_type": "code",
   "execution_count": 6,
   "metadata": {},
   "outputs": [
    {
     "name": "stderr",
     "output_type": "stream",
     "text": [
      "                                                                                                            \r"
     ]
    },
    {
     "data": {
      "text/html": [
       "<video src=\"media\\jupyter\\HashmapWrite@2022-11-24@18-44-30.mp4\" controls autoplay loop style=\"max-width: 60%;\"  >\n",
       "      Your browser does not support the <code>video</code> element.\n",
       "    </video>"
      ],
      "text/plain": [
       "<IPython.core.display.Video object>"
      ]
     },
     "metadata": {},
     "output_type": "display_data"
    }
   ],
   "source": [
    "%%manim -v WARNING -qh HashmapWrite\n",
    "from manim.utils.color import Colors\n",
    "class HashmapWrite(Scene):\n",
    "    def construct(self):\n",
    "        SQUARE_SIZE = 0.7\n",
    "        ARRAY_LEN = 8\n",
    "        RANDOM_NAMES = [\"Hamada\",\"Waleed\",\"Anas\",\"Kareem\",\"Ashraf\",\"Mustafa\",\"Ahmed\",\"Youssef\"]\n",
    "        RANDOM_NUMS = [\"128\",\"322\",\"250\",\"131\",\"540\",\"853\",\"198\",\"495\"]\n",
    "        INDEXES = [\"6\",\"3\",\"1\",\"7\",\"2\",\"0\",\"4\",\"5\"]\n",
    "        \n",
    "        code = '''\n",
    "            id_to_name = {}\n",
    "            id_to_name['198'] = \"Ahmed\"\n",
    "            id_to_name['131'] = \"Kareem\"\n",
    "            id_to_name['322'] = \"Waleed\"\n",
    "            id_to_name['495'] = \"Youssef\"\n",
    "            id_to_name['250'] = \"Anas\"\n",
    "            id_to_name['128'] = \"Hamada\"\n",
    "            id_to_name['540'] = \"Ashraf\"\n",
    "            id_to_name['853'] = \"Mustafa\"\n",
    "'''\n",
    "        \n",
    "        funcFrame = Rectangle(width=2, height=1).to_edge(LEFT, buff=2)\n",
    "        hashfnq = always_redraw(lambda: Tex(\"HashFunction\").next_to(funcFrame, UP, buff=1))\n",
    "        fx = always_redraw(lambda: Tex(\"f(x)\").next_to(hashfnq, DOWN))\n",
    "        \n",
    "        sq = VGroup(*[Rectangle(width=SQUARE_SIZE*5,height=SQUARE_SIZE, color=DARK_GRAY) for i in range(ARRAY_LEN)]).arrange(DOWN, buff=0.1).to_edge(RIGHT, buff=0)\n",
    "        idxs = always_redraw(lambda: VGroup(*[Tex(i,font_size=25, color=LIGHT_GRAY).move_to(sq[i].get_critical_point(LEFT)).shift(LEFT * 0.2) for i in range(ARRAY_LEN)]))\n",
    "        names = VGroup(*[Tex(RANDOM_NAMES[i], color=DARK_GRAY).move_to(sq[i].get_critical_point([0,0,0])) for i in range(ARRAY_LEN)])\n",
    "        nameLabel = Tex(\"Names\",color=LIGHTER_GRAY).next_to(sq[0], UP)\n",
    "        newLabel = Tex(r\"id\\_to\\_name\").next_to(nameLabel, ORIGIN)\n",
    "        rendered_code = Code(code=code, tab_width=4, background=\"window\", language=\"Python\", font=\"Monospace\").scale(0.8).align_to(sq[0], UP).align_to(funcFrame, LEFT)\n",
    "        \n",
    "        self.add(nameLabel)\n",
    "        self.add(*[s for s in sq],*[i for i in idxs])        \n",
    "        self.add(funcFrame, hashfnq, fx)\n",
    "        self.play(funcFrame.animate.shift(DOWN*2))\n",
    "        self.wait()\n",
    "        self.play(Write(rendered_code))\n",
    "        self.play(ReplacementTransform(nameLabel, newLabel))\n",
    "        self.wait()\n",
    "        for i in range(ARRAY_LEN):\n",
    "            curr_i = int(INDEXES[i])\n",
    "            curr_id = Tex(RANDOM_NUMS[curr_i], color=GREEN).move_to(funcFrame.get_critical_point(LEFT)).shift(LEFT)\n",
    "            \n",
    "            tex = MathTex(RANDOM_NUMS[curr_i], r\"\\,\\%\\, 8\").move_to(funcFrame.get_center())\n",
    "            mod = tex[1].copy().set_color(BLUE).next_to(funcFrame, UR)\n",
    "            \n",
    "            self.play(AnimationGroup(curr_id.animate.move_to(tex[0]), GrowFromCenter(mod),mod.animate.move_to(tex[1])))            \n",
    "            #self.play(curr_id.animate.move_to(funcFrame.get_center()))\n",
    "            \n",
    "            new_index = Tex(INDEXES[i], color=GOLD).move_to(funcFrame.get_critical_point(RIGHT)).shift(RIGHT)\n",
    "            self.play(ReplacementTransform(VGroup(curr_id, mod), new_index))\n",
    "            \n",
    "            arr = Arrow(start=new_index.get_critical_point(RIGHT), end=idxs[curr_i].get_critical_point(LEFT))\n",
    "            new_value = Tex(RANDOM_NAMES[curr_i]).move_to(sq[curr_i].get_critical_point(ORIGIN))\n",
    "            \n",
    "            self.play(Write(arr))\n",
    "            self.play(Write(new_value))\n",
    "            \n",
    "            self.play(FadeOut(VGroup(arr, curr_id,new_index,mod)))\n",
    "        self.wait()\n",
    "        code = '''\n",
    "            id_to_name = {}\n",
    "            id_to_name['198'] = \"Ahmed\"\n",
    "            id_to_name['131'] = \"Kareem\"\n",
    "            id_to_name['322'] = \"Waleed\"\n",
    "            id_to_name['495'] = \"Youssef\"\n",
    "            id_to_name['250'] = \"Anas\"\n",
    "            id_to_name['128'] = \"Hamada\"\n",
    "            id_to_name['540'] = \"Ashraf\"\n",
    "            id_to_name['853'] = \"Mustafa\"\n",
    "'''"
   ]
  }
 ],
 "metadata": {
  "kernelspec": {
   "display_name": "Python 3.10.8 64-bit",
   "language": "python",
   "name": "python3"
  },
  "language_info": {
   "codemirror_mode": {
    "name": "ipython",
    "version": 3
   },
   "file_extension": ".py",
   "mimetype": "text/x-python",
   "name": "python",
   "nbconvert_exporter": "python",
   "pygments_lexer": "ipython3",
   "version": "3.10.8"
  },
  "orig_nbformat": 4,
  "vscode": {
   "interpreter": {
    "hash": "369f2c481f4da34e4445cda3fffd2e751bd1c4d706f27375911949ba6bb62e1c"
   }
  }
 },
 "nbformat": 4,
 "nbformat_minor": 2
}
