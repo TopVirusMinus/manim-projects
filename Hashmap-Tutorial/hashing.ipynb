{
 "cells": [
  {
   "cell_type": "code",
   "execution_count": 1,
   "metadata": {},
   "outputs": [
    {
     "data": {
      "text/html": [
       "<pre style=\"white-space:pre;overflow-x:auto;line-height:normal;font-family:Menlo,'DejaVu Sans Mono',consolas,'Courier New',monospace\">Manim Community <span style=\"color: #008000; text-decoration-color: #008000\">v0.16.0.post0</span>\n",
       "\n",
       "</pre>\n"
      ],
      "text/plain": [
       "Manim Community \u001b[32mv0.\u001b[0m\u001b[32m16.0\u001b[0m\u001b[32m.post0\u001b[0m\n",
       "\n"
      ]
     },
     "metadata": {},
     "output_type": "display_data"
    }
   ],
   "source": [
    "from manim import *\n",
    "config.media_width = '60%'"
   ]
  },
  {
   "cell_type": "code",
   "execution_count": 2,
   "metadata": {},
   "outputs": [
    {
     "name": "stderr",
     "output_type": "stream",
     "text": [
      "                                                                                                         \r"
     ]
    },
    {
     "data": {
      "text/html": [
       "<video src=\"media\\jupyter\\HashFunction@2022-11-24@13-41-12.mp4\" controls autoplay loop style=\"max-width: 60%;\"  >\n",
       "      Your browser does not support the <code>video</code> element.\n",
       "    </video>"
      ],
      "text/plain": [
       "<IPython.core.display.Video object>"
      ]
     },
     "metadata": {},
     "output_type": "display_data"
    }
   ],
   "source": [
    "%%manim -v WARNING -ql HashFunction\n",
    "class HashFunction(Scene):\n",
    "    def construct(self):\n",
    "        funcFrame = Rectangle(width=6, height=3)\n",
    "        hashfnq = always_redraw(lambda:Tex(\"HashFunction\").next_to(funcFrame, UP, buff=1.2))\n",
    "        fx = always_redraw(lambda:Tex(\"f(x)\").next_to(hashfnq, DOWN))\n",
    "        \n",
    "        tex = MathTex(r\"852 \", r\"\\,\\%\\, 7\", font_size=80).move_to(funcFrame.get_center())\n",
    "        tex[0].set_color(GREEN)\n",
    "        \n",
    "        \n",
    "        input_key = tex[0].copy().next_to(funcFrame, LEFT, buff=1)\n",
    "        mod = tex[1].copy().set_color(BLUE).next_to(funcFrame, UR)\n",
    "        \n",
    "        output = Tex(\"5\", font_size=80, color=GOLD).next_to(funcFrame, RIGHT, buff=1)\n",
    "        \n",
    "        key_brace = Brace(tex[0], UP).set_color(GREEN)\n",
    "        key_label = Tex(\"Key\", font_size=40).next_to(key_brace, UP, buff=0)\n",
    "        \n",
    "        hash_brace = Brace(tex[1], DOWN).set_color(BLUE)\n",
    "        hash_label = Tex(\"hash algorithm\", font_size=40).next_to(hash_brace, DOWN, buff=0)\n",
    "        \n",
    "        index_brace = Brace(output, DOWN).set_color(GOLD)\n",
    "        index_label = Tex(\"index\", font_size=40).next_to(index_brace, DOWN, buff=0)\n",
    "        \n",
    "        self.add(funcFrame) \n",
    "        self.add(VGroup(hashfnq,fx))\n",
    "        self.play(input_key.animate.move_to(tex[0]))\n",
    "        self.play(AnimationGroup(GrowFromCenter(mod),mod.animate.move_to(tex[1])))\n",
    "        self.play(Transform(VGroup(input_key.copy(), mod.copy()), output))\n",
    "        self.play(Write(VGroup(key_brace, key_label, hash_brace, hash_label, index_brace, index_label)))\n",
    "        self.wait()"
   ]
  }
 ],
 "metadata": {
  "kernelspec": {
   "display_name": "Python 3.10.8 64-bit",
   "language": "python",
   "name": "python3"
  },
  "language_info": {
   "codemirror_mode": {
    "name": "ipython",
    "version": 3
   },
   "file_extension": ".py",
   "mimetype": "text/x-python",
   "name": "python",
   "nbconvert_exporter": "python",
   "pygments_lexer": "ipython3",
   "version": "3.10.8"
  },
  "orig_nbformat": 4,
  "vscode": {
   "interpreter": {
    "hash": "369f2c481f4da34e4445cda3fffd2e751bd1c4d706f27375911949ba6bb62e1c"
   }
  }
 },
 "nbformat": 4,
 "nbformat_minor": 2
}
