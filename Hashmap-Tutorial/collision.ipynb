{
 "cells": [
  {
   "cell_type": "code",
   "execution_count": 9,
   "metadata": {},
   "outputs": [],
   "source": [
    "from manim import *\n",
    "config.media_width = '60%'"
   ]
  },
  {
   "cell_type": "code",
   "execution_count": 10,
   "metadata": {},
   "outputs": [
    {
     "name": "stderr",
     "output_type": "stream",
     "text": [
      "                                                                                          \r"
     ]
    },
    {
     "data": {
      "text/html": [
       "<video src=\"media\\jupyter\\Collision@2022-11-25@19-09-49.mp4\" controls autoplay loop style=\"max-width: 60%;\"  >\n",
       "      Your browser does not support the <code>video</code> element.\n",
       "    </video>"
      ],
      "text/plain": [
       "<IPython.core.display.Video object>"
      ]
     },
     "metadata": {},
     "output_type": "display_data"
    }
   ],
   "source": [
    "%%manim -v WARNING -qh Collision\n",
    "from manim.utils.color import Colors\n",
    "class Collision(Scene):\n",
    "    def construct(self):\n",
    "        SQUARE_SIZE = 0.7\n",
    "        ARRAY_LEN = 8\n",
    "        RANDOM_NAMES = [\"Hamada\",\"Waleed\",\"Anas\",\"Kareem\",\"Ashraf\",\"Mustafa\",\"Ahmed\",\"Youssef\"]\n",
    "        RANDOM_NUMS = [\"128\",\"322\",\"250\",\"131\",\"540\",\"853\",\"198\",\"495\"]\n",
    "        INDEXES = [\"6\",\"3\",\"1\",\"7\",\"2\",\"0\",\"4\",\"5\"] \n",
    "        hashmap_code = ''' \n",
    "            id_to_name = {\n",
    "                \n",
    "                '131': 'Kareem'  , '495': 'Youssef',\n",
    "                '853': 'Mustafa' , '128': 'Hamada',\n",
    "                '322': 'Waleed'  , '540': 'Ashraf',\n",
    "                '250': 'Anas'    , '198': 'Ahmed'\n",
    "            }\n",
    "        '''\n",
    "        code = \"print(id_to_name['495'])\"\n",
    "        \n",
    "        new_code = \"id_to_name['405'] = \\\"Ziad\\\"\" \n",
    "        \n",
    "        funcFrame = Rectangle(width=2, height=1).to_edge(LEFT, buff=2).shift(DOWN*2)\n",
    "        hashfnq = always_redraw(lambda: Tex(\"HashFunction\").next_to(funcFrame, UP, buff=1))\n",
    "        fx = always_redraw(lambda: Tex(\"f(x)\").next_to(hashfnq, DOWN))\n",
    "        \n",
    "        sq = VGroup(*[Rectangle(width=SQUARE_SIZE*5,height=SQUARE_SIZE, color=DARK_GRAY) for i in range(ARRAY_LEN)]).arrange(DOWN, buff=0.1).to_edge(RIGHT)\n",
    "        idxs = always_redraw(lambda: VGroup(*[Tex(i,font_size=25, color=LIGHT_GRAY).move_to(sq[i].get_critical_point(LEFT)).shift(LEFT * 0.2) for i in range(ARRAY_LEN)]))\n",
    "        names = VGroup(*[Tex(RANDOM_NAMES[i]).move_to(sq[i].get_center()) for i in range(ARRAY_LEN)])\n",
    "        nameLabel = Tex(\"Names\",color=LIGHTER_GRAY).next_to(sq[0], UP)\n",
    "        newLabel = Tex(r\"id\\_to\\_name\").next_to(nameLabel, ORIGIN)\n",
    "        hashmap_rendered_code = Code(code=hashmap_code, tab_width=4, background=\"window\", language=\"Python\", font=\"Monospace\").scale(0.8).align_to(sq[0], UP).align_to(funcFrame, LEFT)\n",
    "        rendered_code = Code(code=code, tab_width=4, background=\"window\", language=\"Python\", font=\"Monospace\").scale(0.8).align_to(hashmap_rendered_code, RIGHT)\n",
    "        timecplx = Tex(\"Time Complexity O(1)\").next_to(funcFrame.get_critical_point(RIGHT)).shift(RIGHT/2).align_to(funcFrame, UP)\n",
    "        qs = Tex(\"?????\", color=YELLOW).next_to(timecplx, DOWN)\n",
    "\n",
    "        render_new_code = Code(code=new_code, tab_width=4, background=\"window\", language=\"Python\", font=\"Monospace\").scale(0.6).align_to(hashmap_rendered_code, RIGHT)\n",
    "        self.add(VGroup(qs,timecplx,nameLabel,hashmap_rendered_code,rendered_code,*[s for s in sq],*[i for i in idxs], *[n for n in names],funcFrame, hashfnq, fx))\n",
    "        \n",
    "        self.play(FadeOut(rendered_code, shift=DOWN))\n",
    "        self.play(FadeIn(render_new_code, shift=UP))\n",
    "        tex = MathTex(\"495\", r\"\\,\\%\\, 8\").move_to(funcFrame.get_center())\n",
    "        mod = tex[1].copy().set_color(BLUE).next_to(funcFrame, UR)\n",
    "        \n",
    "        curr_id = Tex(\"405\", color=GREEN).move_to(funcFrame.get_critical_point(LEFT)).shift(LEFT)\n",
    "        new_index = Tex(\"5\", color=BLUE_C).move_to(funcFrame.get_critical_point(RIGHT)).shift(RIGHT * 0.5)\n",
    "        arr = Arrow(start=new_index.get_critical_point(RIGHT), end=idxs[5].get_critical_point(LEFT))\n",
    "\n",
    "        collisionTex = Tex(\"Hash Collision\", color=GREEN).move_to(qs)\n",
    "        self.play(Write(curr_id))\n",
    "        self.play(AnimationGroup(curr_id.animate.move_to(tex[0]), GrowFromCenter(mod),mod.animate.move_to(tex[1])))\n",
    "        self.play(AnimationGroup(ReplacementTransform(VGroup(curr_id, mod), new_index), FadeOut(VGroup(qs,timecplx), shift=DOWN)))\n",
    "        self.play(Write(arr))\n",
    "        self.play(Write(collisionTex))\n",
    "        self.wait()\n",
    "        \n",
    "        "
   ]
  }
 ],
 "metadata": {
  "kernelspec": {
   "display_name": "Python 3.10.8 64-bit",
   "language": "python",
   "name": "python3"
  },
  "language_info": {
   "codemirror_mode": {
    "name": "ipython",
    "version": 3
   },
   "file_extension": ".py",
   "mimetype": "text/x-python",
   "name": "python",
   "nbconvert_exporter": "python",
   "pygments_lexer": "ipython3",
   "version": "3.10.8"
  },
  "orig_nbformat": 4,
  "vscode": {
   "interpreter": {
    "hash": "369f2c481f4da34e4445cda3fffd2e751bd1c4d706f27375911949ba6bb62e1c"
   }
  }
 },
 "nbformat": 4,
 "nbformat_minor": 2
}
