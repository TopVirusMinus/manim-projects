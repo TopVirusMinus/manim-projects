{
 "cells": [
  {
   "cell_type": "code",
   "execution_count": 2,
   "metadata": {},
   "outputs": [
    {
     "data": {
      "text/html": [
       "<pre style=\"white-space:pre;overflow-x:auto;line-height:normal;font-family:Menlo,'DejaVu Sans Mono',consolas,'Courier New',monospace\">Manim Community <span style=\"color: #008000; text-decoration-color: #008000\">v0.16.0.post0</span>\n",
       "\n",
       "</pre>\n"
      ],
      "text/plain": [
       "Manim Community \u001b[32mv0.\u001b[0m\u001b[32m16.0\u001b[0m\u001b[32m.post0\u001b[0m\n",
       "\n"
      ]
     },
     "metadata": {},
     "output_type": "display_data"
    }
   ],
   "source": [
    "from manim import *\n",
    "config.media_width = '60%'"
   ]
  },
  {
   "cell_type": "code",
   "execution_count": 46,
   "metadata": {},
   "outputs": [
    {
     "name": "stderr",
     "output_type": "stream",
     "text": [
      "                                                                                        \r"
     ]
    },
    {
     "data": {
      "text/html": [
       "<pre style=\"white-space:pre;overflow-x:auto;line-height:normal;font-family:Menlo,'DejaVu Sans Mono',consolas,'Courier New',monospace\"><span style=\"color: #7fbfbf; text-decoration-color: #7fbfbf\">[11/17/22 00:03:37] </span><span style=\"color: #800000; text-decoration-color: #800000\">WARNING </span> Attempted adding some Mobject as a child more than once, this is not    <a href=\"file://C:\\tools\\Manim\\Lib\\site-packages\\manim\\mobject\\mobject.py\" target=\"_blank\"><span style=\"color: #7f7f7f; text-decoration-color: #7f7f7f\">mobject.py</span></a><span style=\"color: #7f7f7f; text-decoration-color: #7f7f7f\">:</span><a href=\"file://C:\\tools\\Manim\\Lib\\site-packages\\manim\\mobject\\mobject.py#437\" target=\"_blank\"><span style=\"color: #7f7f7f; text-decoration-color: #7f7f7f\">437</span></a>\n",
       "<span style=\"color: #7fbfbf; text-decoration-color: #7fbfbf\">                    </span>         possible. Repetitions are ignored.                                      <span style=\"color: #7f7f7f; text-decoration-color: #7f7f7f\">              </span>\n",
       "</pre>\n"
      ],
      "text/plain": [
       "\u001b[2;36m[11/17/22 00:03:37]\u001b[0m\u001b[2;36m \u001b[0m\u001b[31mWARNING \u001b[0m Attempted adding some Mobject as a child more than once, this is not    \u001b]8;id=98580;file://C:\\tools\\Manim\\Lib\\site-packages\\manim\\mobject\\mobject.py\u001b\\\u001b[2mmobject.py\u001b[0m\u001b]8;;\u001b\\\u001b[2m:\u001b[0m\u001b]8;id=263453;file://C:\\tools\\Manim\\Lib\\site-packages\\manim\\mobject\\mobject.py#437\u001b\\\u001b[2m437\u001b[0m\u001b]8;;\u001b\\\n",
       "\u001b[2;36m                    \u001b[0m         possible. Repetitions are ignored.                                      \u001b[2m              \u001b[0m\n"
      ]
     },
     "metadata": {},
     "output_type": "display_data"
    },
    {
     "name": "stderr",
     "output_type": "stream",
     "text": [
      "                                                                                               \r"
     ]
    },
    {
     "data": {
      "text/html": [
       "<video src=\"media\\jupyter\\SequentialSearch@2022-11-17@00-04-06.mp4\" controls autoplay loop style=\"max-width: 60%;\"  >\n",
       "      Your browser does not support the <code>video</code> element.\n",
       "    </video>"
      ],
      "text/plain": [
       "<IPython.core.display.Video object>"
      ]
     },
     "metadata": {},
     "output_type": "display_data"
    }
   ],
   "source": [
    "%%manim -v WARNING -qm SequentialSearch\n",
    "class SequentialSearch(Scene):\n",
    "    def construct(self):\n",
    "        SQUARE_SIZE = 0.7\n",
    "        ARRAY_LEN = 15\n",
    "        RANDOM_NUMS = [\"U\",\"N\",\"C\",\"O\",\"P\",\"Y\",\"R\",\"I\",\"G\",\"H\",\"T\",\"A\",\"B\",\"L\",\"E\"]\n",
    "        \n",
    "        idx = 0\n",
    "        title=Tex(\"Linear Search\").to_edge(UP,buff=0.5)\n",
    "        \n",
    "        sq = VGroup(*[Square(side_length=SQUARE_SIZE) for i in range(ARRAY_LEN)]).arrange(RIGHT, buff=0.1)\n",
    "        idxs = always_redraw(lambda: VGroup(*[Tex(i,font_size=25, color=LIGHT_GRAY).move_to(sq[i].get_critical_point(UP)).shift(UP * 0.2) for i in range(ARRAY_LEN)]))\n",
    "        nums = always_redraw(lambda: VGroup(*[Tex(RANDOM_NUMS[i]).move_to(sq[i].get_critical_point([0,0,0])) for i in range(ARRAY_LEN)]))\n",
    "        \n",
    "        target = Tex(\"Target = T\", font_size=30, color=GREEN).move_to(UP).align_to(sq[0],LEFT)\n",
    "        \n",
    "        pointer = Arrow(start=DOWN/4, end=UP, color=YELLOW).next_to(sq[idx], DOWN)\n",
    "        index = always_redraw(lambda: Integer(idx).next_to(pointer, DOWN))\n",
    "        idxLabel = always_redraw(lambda: Text(\"i =\", font_size=30).next_to(index, LEFT, buff=0.1))\n",
    "        timeComp1 = Tex(\"Time Complexity: O(N)\")\n",
    "                        \n",
    "        self.play(Write(title))\n",
    "        self.play(AnimationGroup(*[DrawBorderThenFill(s) for s in sq], *[FadeIn(n) for n in nums],*[FadeIn(i) for i in idxs], lag_ratio=0.02))        \n",
    "        self.play(Write(target))\n",
    "        self.play(Write(VGroup(index, idxLabel)))\n",
    "        \n",
    "        sq[0].stroke_color = YELLOW\n",
    "        for i in range(10):\n",
    "            sq[idx - 1].stroke_color=WHITE\n",
    "            self.wait(0.2)\n",
    "            idx += 1\n",
    "            self.play(pointer.animate.next_to(sq[idx], DOWN), rate_func=linear)\n",
    "            sq[idx].stroke_color=YELLOW\n",
    "            \n",
    "        sq[9].stroke_color=WHITE\n",
    "        nums[10].color=RED\n",
    "        sq[10].stroke_color=YELLOW\n",
    "        self.play(Write(timeComp1.to_edge(DOWN, buff=1)))\n",
    "        self.wait()\n",
    "        \n",
    "        sq[10].stroke_color=WHITE\n",
    "        nums[10].color=WHITE\n",
    "        \n",
    "        sq2 = VGroup(*[Square(side_length=SQUARE_SIZE/1.7) for i in range(ARRAY_LEN)]).arrange(DOWN, buff=0.1).to_edge(RIGHT)\n",
    "        idxs2 = always_redraw(lambda: VGroup(*[Tex(i,font_size=25, color=LIGHT_GRAY).move_to(sq2[i].get_critical_point(LEFT)).shift(LEFT * 0.2) for i in range(ARRAY_LEN)]))\n",
    "        nums2 = always_redraw(lambda: VGroup(*[Tex(RANDOM_NUMS[i], font_size=35).move_to(sq2[i].get_critical_point([0,0,0])) for i in range(ARRAY_LEN)]))\n",
    "        \n",
    "        self.play(FadeOut(VGroup(title, target, pointer, index, idxLabel, target, timeComp1), shift=DOWN))\n",
    "        self.play(AnimationGroup(ReplacementTransform(sq, sq2),ReplacementTransform(idxs, idxs2),ReplacementTransform(nums, nums2)))        \n",
    "        self.wait()"
   ]
  }
 ],
 "metadata": {
  "kernelspec": {
   "display_name": "Python 3.10.8 64-bit",
   "language": "python",
   "name": "python3"
  },
  "language_info": {
   "codemirror_mode": {
    "name": "ipython",
    "version": 3
   },
   "file_extension": ".py",
   "mimetype": "text/x-python",
   "name": "python",
   "nbconvert_exporter": "python",
   "pygments_lexer": "ipython3",
   "version": "3.10.8"
  },
  "orig_nbformat": 4,
  "vscode": {
   "interpreter": {
    "hash": "369f2c481f4da34e4445cda3fffd2e751bd1c4d706f27375911949ba6bb62e1c"
   }
  }
 },
 "nbformat": 4,
 "nbformat_minor": 2
}
