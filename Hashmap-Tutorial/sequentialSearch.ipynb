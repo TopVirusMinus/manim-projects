{
 "cells": [
  {
   "cell_type": "code",
   "execution_count": 2,
   "metadata": {},
   "outputs": [
    {
     "data": {
      "text/html": [
       "<pre style=\"white-space:pre;overflow-x:auto;line-height:normal;font-family:Menlo,'DejaVu Sans Mono',consolas,'Courier New',monospace\">Manim Community <span style=\"color: #008000; text-decoration-color: #008000\">v0.16.0.post0</span>\n",
       "\n",
       "</pre>\n"
      ],
      "text/plain": [
       "Manim Community \u001b[32mv0.\u001b[0m\u001b[32m16.0\u001b[0m\u001b[32m.post0\u001b[0m\n",
       "\n"
      ]
     },
     "metadata": {},
     "output_type": "display_data"
    }
   ],
   "source": [
    "from manim import *\n",
    "config.media_width = '60%'"
   ]
  },
  {
   "cell_type": "code",
   "execution_count": 4,
   "metadata": {},
   "outputs": [
    {
     "name": "stderr",
     "output_type": "stream",
     "text": [
      "                                                                                                        \r"
     ]
    },
    {
     "data": {
      "text/html": [
       "<pre style=\"white-space:pre;overflow-x:auto;line-height:normal;font-family:Menlo,'DejaVu Sans Mono',consolas,'Courier New',monospace\"><span style=\"color: #7fbfbf; text-decoration-color: #7fbfbf\">[11/24/22 18:42:27] </span><span style=\"color: #800000; text-decoration-color: #800000\">WARNING </span> Attempted adding some Mobject as a child more than once, this is not    <a href=\"file://C:\\tools\\Manim\\Lib\\site-packages\\manim\\mobject\\mobject.py\" target=\"_blank\"><span style=\"color: #7f7f7f; text-decoration-color: #7f7f7f\">mobject.py</span></a><span style=\"color: #7f7f7f; text-decoration-color: #7f7f7f\">:</span><a href=\"file://C:\\tools\\Manim\\Lib\\site-packages\\manim\\mobject\\mobject.py#437\" target=\"_blank\"><span style=\"color: #7f7f7f; text-decoration-color: #7f7f7f\">437</span></a>\n",
       "<span style=\"color: #7fbfbf; text-decoration-color: #7fbfbf\">                    </span>         possible. Repetitions are ignored.                                      <span style=\"color: #7f7f7f; text-decoration-color: #7f7f7f\">              </span>\n",
       "</pre>\n"
      ],
      "text/plain": [
       "\u001b[2;36m[11/24/22 18:42:27]\u001b[0m\u001b[2;36m \u001b[0m\u001b[31mWARNING \u001b[0m Attempted adding some Mobject as a child more than once, this is not    \u001b]8;id=83780;file://C:\\tools\\Manim\\Lib\\site-packages\\manim\\mobject\\mobject.py\u001b\\\u001b[2mmobject.py\u001b[0m\u001b]8;;\u001b\\\u001b[2m:\u001b[0m\u001b]8;id=122714;file://C:\\tools\\Manim\\Lib\\site-packages\\manim\\mobject\\mobject.py#437\u001b\\\u001b[2m437\u001b[0m\u001b]8;;\u001b\\\n",
       "\u001b[2;36m                    \u001b[0m         possible. Repetitions are ignored.                                      \u001b[2m              \u001b[0m\n"
      ]
     },
     "metadata": {},
     "output_type": "display_data"
    },
    {
     "name": "stderr",
     "output_type": "stream",
     "text": [
      "                                                                                    \r"
     ]
    },
    {
     "data": {
      "text/html": [
       "<video src=\"media\\jupyter\\SequentialSearch@2022-11-24@18-42-44.mp4\" controls autoplay loop style=\"max-width: 60%;\"  >\n",
       "      Your browser does not support the <code>video</code> element.\n",
       "    </video>"
      ],
      "text/plain": [
       "<IPython.core.display.Video object>"
      ]
     },
     "metadata": {},
     "output_type": "display_data"
    }
   ],
   "source": [
    "%%manim -v WARNING -qh SequentialSearch\n",
    "class SequentialSearch(Scene):\n",
    "    def construct(self):\n",
    "        SQUARE_SIZE = 0.7\n",
    "        ARRAY_LEN = 8\n",
    "        RANDOM_NAMES = [\"Hamada\",\"Waleed\",\"Anas\",\"Kareem\",\"Ashraf\",\"Mustafa\",\"Ahmed\",\"Youssef\"]\n",
    "        RANDOM_NUMS = [\"128\",\"322\",\"250\",\"131\",\"540\",\"853\",\"198\",\"495\"]\n",
    "        TARGET_NUM = 5\n",
    "        \n",
    "        idx = 0\n",
    "        title=Tex(\"Linear Search\").to_edge(UP,buff=0.5)\n",
    "        \n",
    "        middle = Rectangle(width=0.1, height=0.1).set_opacity(0) \n",
    "        \n",
    "        sq = VGroup(*[Rectangle(width=SQUARE_SIZE*3,height=SQUARE_SIZE, color=DARK_GRAY) for i in range(ARRAY_LEN)]).arrange(DOWN, buff=0.1).to_edge(RIGHT, buff=4)\n",
    "        idxs = always_redraw(lambda: VGroup(*[Tex(i,font_size=25, color=LIGHT_GRAY).move_to(sq[i].get_critical_point(LEFT)).shift(LEFT * 0.2) for i in range(ARRAY_LEN)]))\n",
    "        nums = always_redraw(lambda: VGroup(*[Tex(RANDOM_NUMS[i], color=DARK_GRAY).move_to(sq[i].get_critical_point([0,0,0])) for i in range(ARRAY_LEN)]))\n",
    "        \n",
    "        \n",
    "        sq2 = VGroup(*[Rectangle(width=SQUARE_SIZE*5,height=SQUARE_SIZE, color=DARK_GRAY) for i in range(ARRAY_LEN)]).arrange(DOWN, buff=0.1).to_edge(RIGHT, buff=0)\n",
    "        idxs2 = always_redraw(lambda: VGroup(*[Tex(i,font_size=25, color=LIGHT_GRAY).move_to(sq2[i].get_critical_point(LEFT)).shift(LEFT * 0.2) for i in range(ARRAY_LEN)]))\n",
    "        names = VGroup(*[Tex(RANDOM_NAMES[i], color=DARK_GRAY).move_to(sq2[i].get_critical_point([0,0,0])) for i in range(ARRAY_LEN)])\n",
    "        \n",
    "        target = Tex(\"Target = 853\", font_size=30, color=GREEN).to_edge(UL)\n",
    "        \n",
    "        pointer = Arrow(start=LEFT/4, end=RIGHT, color=YELLOW).next_to(sq[idx], LEFT)\n",
    "        index = always_redraw(lambda: Integer(idx).next_to(pointer, LEFT))\n",
    "        idxLabel = always_redraw(lambda: Text(\"i =\", font_size=30).next_to(index, LEFT, buff=0.1))\n",
    "        timeComp1 = Tex(\"Time Complexity: O(N)\")\n",
    "                        \n",
    "        #self.play(Write(title))\n",
    "        idLabel = Tex(\"IDs\",color=LIGHTER_GRAY).next_to(sq[0], UP)\n",
    "        nameLabel = Tex(\"Names\",color=LIGHTER_GRAY).next_to(sq2[0], UP)\n",
    "        \n",
    "        self.play(Write(VGroup(idLabel,nameLabel)))\n",
    "        self.play(AnimationGroup(*[DrawBorderThenFill(s) for s in sq], *[FadeIn(n) for n in nums],*[FadeIn(i) for i in idxs],*[DrawBorderThenFill(s) for s in sq2], *[FadeIn(n) for n in names],*[FadeIn(i) for i in idxs2], lag_ratio=0.02))        \n",
    "        self.play(Write(target))\n",
    "        self.play(Write(VGroup(index, idxLabel)))\n",
    "        \n",
    "        \n",
    "        sq[0].stroke_color = YELLOW\n",
    "        nums[0].color = WHITE\n",
    "        sq[-1].stroke_color = DARK_GRAY\n",
    "        \n",
    "        for i in range(TARGET_NUM):\n",
    "            self.wait(0.2)\n",
    "            idx += 1\n",
    "            self.play(AnimationGroup(pointer.animate.next_to(sq[idx], LEFT), sq[idx].animate.set_color(YELLOW), nums[idx].animate.set_color(WHITE), sq[idx - 1].animate.set_color(DARK_GRAY), nums[idx - 1].animate.set_color(DARK_GRAY)))\n",
    "            \n",
    "        sq[TARGET_NUM - 1].stroke_color=DARK_GRAY\n",
    "        nums[TARGET_NUM - 1].color=DARK_GRAY\n",
    "        \n",
    "        self.play(AnimationGroup(sq2[TARGET_NUM].animate.set_color(YELLOW), sq[TARGET_NUM].animate.set_color(YELLOW), nums[TARGET_NUM].animate.set_color(RED), names[TARGET_NUM].animate.set_color(RED)))\n",
    "        self.play(Write(timeComp1.to_edge(LEFT, buff=1)))\n",
    "        self.wait()\n",
    "        \n",
    "        # sq2 = VGroup(*[Square(side_length=SQUARE_SIZE/1.7) for i in range(ARRAY_LEN)]).arrange(DOWN, buff=0.1).to_edge(RIGHT)\n",
    "        # idxs2 = always_redraw(lambda: VGroup(*[Tex(i,font_size=25, color=LIGHT_GRAY).move_to(sq2[i].get_critical_point(LEFT)).shift(LEFT * 0.2) for i in range(ARRAY_LEN)]))\n",
    "        # nums2 = always_redraw(lambda: VGroup(*[Tex(RANDOM_NUMS[i], font_size=35).move_to(sq2[i].get_critical_point([0,0,0])) for i in range(ARRAY_LEN)]))\n",
    "        \n",
    "        self.play(FadeOut(VGroup(timeComp1, pointer, idxLabel,index), shift=DOWN))\n",
    "        self.play(AnimationGroup(sq2[TARGET_NUM].animate.set_color(DARK_GRAY), sq[TARGET_NUM].animate.set_color(DARK_GRAY), nums[TARGET_NUM].animate.set_color(DARK_GRAY), names[TARGET_NUM].animate.set_color(DARK_GRAY)))\n",
    "        # self.play(AnimationGroup(ReplacementTransform(sq, sq2),ReplacementTransform(idxs, idxs2),ReplacementTransform(nums, nums2)))        \n",
    "        \n",
    "        funcFrame = Rectangle(width=4, height=2)\n",
    "        funcFrame.generate_target()\n",
    "        funcFrame.to_edge(LEFT, buff=2)\n",
    "        \n",
    "        hashfnq = always_redraw(lambda:Tex(\"HashFunction\").next_to(funcFrame, UP, buff=1))\n",
    "        \n",
    "        self.play(Write(hashfnq))\n",
    "        \n",
    "        fx = always_redraw(lambda:Tex(\"f(x)\").next_to(hashfnq, DOWN))\n",
    "        new_target = Tex(\"853\", color=GREEN).move_to(funcFrame.get_critical_point([0,0,0]))\n",
    "        new_index = Tex(\"5\", color=GOLD).next_to(funcFrame, RIGHT).shift(RIGHT)\n",
    "        \n",
    "        self.play(AnimationGroup(DrawBorderThenFill(funcFrame), FadeIn(fx)))\n",
    "\n",
    "        self.play(ReplacementTransform(target, new_target))\n",
    "        self.play(Rotate(new_target, -1800*DEGREES))\n",
    "        self.play(ReplacementTransform(target, new_target))        \n",
    "        \n",
    "        arr2 = always_redraw(lambda:Arrow(start=funcFrame.get_critical_point(RIGHT), end=new_index.get_critical_point(LEFT)))\n",
    "        \n",
    "        self.play(ReplacementTransform(new_target, new_index))\n",
    "        self.play(Write(arr2))\n",
    "                \n",
    "        arrow = always_redraw(lambda: Arrow(start=new_index.get_critical_point(RIGHT), end= idxs2[TARGET_NUM].get_critical_point(LEFT)))\n",
    "        \n",
    "        self.play(Write(arrow))\n",
    "        self.play(AnimationGroup(sq2[TARGET_NUM].animate.set_color(YELLOW), names[TARGET_NUM].animate.set_color(RED)))\n",
    "        self.wait()\n",
    "        \n",
    "        new_target = Tex(\"853\", color=GREEN).next_to(funcFrame, LEFT).shift(LEFT/2)\n",
    "        \n",
    "        \n",
    "        arr1 = Arrow(start=new_target.get_critical_point(RIGHT), end=funcFrame.get_critical_point(LEFT))\n",
    "    \n",
    "    \n",
    "        tex = MathTex(r\"853 \", r\"\\,\\%\\, 8\").move_to(funcFrame.get_center())\n",
    "        tex[0].set_color(GREEN)\n",
    "        \n",
    "        input_key = new_target.copy()\n",
    "        mod = tex[1].copy().set_color(BLUE).next_to(funcFrame, UR)\n",
    "        \n",
    "        \n",
    "        key_brace = Brace(tex[0], UP).set_color(GREEN)\n",
    "        key_label = Tex(\"Key\", font_size=30).next_to(key_brace, UP, buff=0)\n",
    "        \n",
    "        hash_brace = Brace(tex[1], DOWN).set_color(BLUE)\n",
    "        hash_label = Tex(\"Size of the array\", font_size=30).next_to(hash_brace, DOWN, buff=0)\n",
    "        \n",
    "        index_brace = Brace(new_index, DOWN).set_color(GOLD)\n",
    "        index_label = Tex(\"index\", font_size=30).next_to(index_brace, DOWN, buff=0)\n",
    "        \n",
    "        \n",
    "        #self.play(Write(new_target))\n",
    "        #self.play(Write(arr1))\n",
    "        self.wait()\n",
    "        self.play(input_key.animate.move_to(tex[0]))\n",
    "        self.play(AnimationGroup(GrowFromCenter(mod),mod.animate.move_to(tex[1])))\n",
    "        mod_copy = mod.copy()\n",
    "        input_key_copy = input_key.copy()\n",
    "        self.play(Transform(VGroup(input_key_copy, mod_copy), new_index))\n",
    "        self.play(Write(VGroup(key_brace, key_label, index_brace,index_label, hash_label,hash_brace)))\n",
    "\n",
    "        letters_key = Tex(\"A\",\"X\",\"L\", color=GREEN).next_to(funcFrame, DOWN)\n",
    "        ascii_key = Tex(\"65\",\"+\",\"88\",\"+\",\"76\").next_to(letters_key, DOWN)\n",
    "        \n",
    "        ascii_key[0].set_color(GREEN)\n",
    "        ascii_key[2].set_color(GREEN)\n",
    "        ascii_key[4].set_color(GREEN)\n",
    "        \n",
    "        new_key = Tex(\"229\",color=GREEN).move_to(ascii_key[2])\n",
    "        \n",
    "        self.play(Write(letters_key))\n",
    "        \n",
    "        a_copy = letters_key[0].copy()\n",
    "        b_copy = letters_key[1].copy()\n",
    "        c_copy = letters_key[2].copy()\n",
    "        \n",
    "        self.play(Transform(a_copy, ascii_key[0]))\n",
    "        self.play(Transform(b_copy, ascii_key[2]))\n",
    "        self.play(Transform(c_copy, ascii_key[4]))\n",
    "        self.play(Write(VGroup(ascii_key)))\n",
    "        self.play(FadeOut(a_copy,b_copy,c_copy))\n",
    "        self.play(Transform(ascii_key, new_key))\n",
    "        self.play(AnimationGroup(FadeOut(input_key), new_key.animate.move_to(input_key)))\n",
    "        \n",
    "        self.wait()\n",
    "        self.play(AnimationGroup(FadeToColor(sq2[5], DARK_GRAY), FadeOut(VGroup(letters_key,ascii_key,new_key,a_copy,b_copy,c_copy, key_brace,input_key_copy, mod_copy,mod, hash_label, key_label,mod,new_index, input_key, index_brace,index_label,hash_brace,names,arr2,arrow,sq,idLabel,idxs,nums,names), shift=DOWN), funcFrame.animate.scale(0.5)))\n",
    "        self.wait()\n",
    "\n",
    "        "
   ]
  }
 ],
 "metadata": {
  "kernelspec": {
   "display_name": "Python 3.10.8 64-bit",
   "language": "python",
   "name": "python3"
  },
  "language_info": {
   "codemirror_mode": {
    "name": "ipython",
    "version": 3
   },
   "file_extension": ".py",
   "mimetype": "text/x-python",
   "name": "python",
   "nbconvert_exporter": "python",
   "pygments_lexer": "ipython3",
   "version": "3.10.8"
  },
  "orig_nbformat": 4,
  "vscode": {
   "interpreter": {
    "hash": "369f2c481f4da34e4445cda3fffd2e751bd1c4d706f27375911949ba6bb62e1c"
   }
  }
 },
 "nbformat": 4,
 "nbformat_minor": 2
}
