{
 "cells": [
  {
   "cell_type": "code",
   "execution_count": null,
   "metadata": {},
   "outputs": [],
   "source": [
    "from manim import *\n",
    "config.media_width = '60%'"
   ]
  },
  {
   "cell_type": "code",
   "execution_count": 133,
   "metadata": {},
   "outputs": [
    {
     "name": "stderr",
     "output_type": "stream",
     "text": [
      "                                                                                            \r"
     ]
    },
    {
     "name": "stdout",
     "output_type": "stream",
     "text": [
      "10\n"
     ]
    },
    {
     "data": {
      "text/html": [
       "<video src=\"media\\jupyter\\SequentialSearch@2022-11-16@22-28-23.mp4\" controls autoplay loop style=\"max-width: 60%;\"  >\n",
       "      Your browser does not support the <code>video</code> element.\n",
       "    </video>"
      ],
      "text/plain": [
       "<IPython.core.display.Video object>"
      ]
     },
     "metadata": {},
     "output_type": "display_data"
    }
   ],
   "source": [
    "%%manim -v WARNING -qm SequentialSearch\n",
    "class SequentialSearch(Scene):\n",
    "    def construct(self):\n",
    "        SQUARE_SIZE = 0.7\n",
    "        ARRAY_LEN = 15\n",
    "        RANDOM_NUMS = [5,2,1,6,8,3,7,0,9,1,12,15,13,19,22,14]\n",
    "        \n",
    "        idx = 0\n",
    "        title=Tex(\"Linear Search\").to_edge(UP,buff=0.5)\n",
    "        \n",
    "        sq = VGroup(*[Square(side_length=SQUARE_SIZE) for i in range(ARRAY_LEN)]).arrange(RIGHT, buff=0)\n",
    "        idxs = VGroup(*[Tex(i,font_size=25, color=GRAY).move_to(sq[i].get_critical_point(UP)).shift(UP * 0.2) for i in range(ARRAY_LEN)])\n",
    "        nums = VGroup(*[Tex(RANDOM_NUMS[i]).move_to(sq[i].get_critical_point([0,0,0])) for i in range(ARRAY_LEN)])\n",
    "        \n",
    "        target = Tex(\"Target = 12\", font_size=30, color=GREEN).move_to(UP).align_to(sq[0],LEFT)\n",
    "        \n",
    "        pointer = Arrow(start=DOWN/4, end=UP, color=YELLOW).next_to(sq[idx], DOWN)\n",
    "        index = always_redraw(lambda: Integer(idx).next_to(pointer, DOWN))\n",
    "        idxLabel = always_redraw(lambda: Text(\"i =\", font_size=30).next_to(index, LEFT, buff=0.1))\n",
    "        \n",
    "        self.play(Write(title))\n",
    "        self.play(AnimationGroup(*[DrawBorderThenFill(s) for s in sq], *[FadeIn(n) for n in nums],*[FadeIn(i) for i in idxs], lag_ratio=0.02))        \n",
    "        self.play(Write(target))\n",
    "        self.play(Write(VGroup(index, idxLabel)))\n",
    "        \n",
    "        for i in range(10):\n",
    "            self.wait(0.2)\n",
    "            idx += 1\n",
    "            self.play(pointer.animate.next_to(sq[idx], DOWN), rate_func=linear)\n",
    "            \n",
    "        print(idx)\n",
    "        sq[10].stroke_color=YELLOW\n",
    "        nums[10].color=RED\n",
    "        self.wait()"
   ]
  }
 ],
 "metadata": {
  "kernelspec": {
   "display_name": "Python 3.10.8 64-bit",
   "language": "python",
   "name": "python3"
  },
  "language_info": {
   "codemirror_mode": {
    "name": "ipython",
    "version": 3
   },
   "file_extension": ".py",
   "mimetype": "text/x-python",
   "name": "python",
   "nbconvert_exporter": "python",
   "pygments_lexer": "ipython3",
   "version": "3.10.8"
  },
  "orig_nbformat": 4,
  "vscode": {
   "interpreter": {
    "hash": "369f2c481f4da34e4445cda3fffd2e751bd1c4d706f27375911949ba6bb62e1c"
   }
  }
 },
 "nbformat": 4,
 "nbformat_minor": 2
}
