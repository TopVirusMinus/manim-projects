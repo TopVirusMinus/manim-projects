{
 "cells": [
  {
   "cell_type": "code",
   "execution_count": 2,
   "metadata": {},
   "outputs": [
    {
     "data": {
      "text/html": [
       "<pre style=\"white-space:pre;overflow-x:auto;line-height:normal;font-family:Menlo,'DejaVu Sans Mono',consolas,'Courier New',monospace\">Manim Community <span style=\"color: #008000; text-decoration-color: #008000\">v0.16.0.post0</span>\n",
       "\n",
       "</pre>\n"
      ],
      "text/plain": [
       "Manim Community \u001b[32mv0.\u001b[0m\u001b[32m16.0\u001b[0m\u001b[32m.post0\u001b[0m\n",
       "\n"
      ]
     },
     "metadata": {},
     "output_type": "display_data"
    }
   ],
   "source": [
    "from manim import *\n",
    "config.media_width = '60%'"
   ]
  },
  {
   "cell_type": "code",
   "execution_count": 41,
   "metadata": {},
   "outputs": [
    {
     "name": "stderr",
     "output_type": "stream",
     "text": [
      "                                                                                                        \r"
     ]
    },
    {
     "data": {
      "text/html": [
       "<video src=\"media\\jupyter\\SequentialSearch@2022-11-17@22-46-25.mp4\" controls autoplay loop style=\"max-width: 60%;\"  >\n",
       "      Your browser does not support the <code>video</code> element.\n",
       "    </video>"
      ],
      "text/plain": [
       "<IPython.core.display.Video object>"
      ]
     },
     "metadata": {},
     "output_type": "display_data"
    }
   ],
   "source": [
    "%%manim -v WARNING -qm SequentialSearch\n",
    "class SequentialSearch(Scene):\n",
    "    def construct(self):\n",
    "        SQUARE_SIZE = 0.7\n",
    "        ARRAY_LEN = 8\n",
    "        RANDOM_NAMES = [\"Hamada\",\"Waleed\",\"Marzouk\",\"Kareem\",\"Ashraf\",\"Mustafa\",\"Ahmed\",\"Youssef\"]\n",
    "        RANDOM_NUMS = [\"123\",\"321\",\"257\",\"135\",\"532\",\"852\",\"189\",\"105\"]\n",
    "        TARGET_NUM = 5\n",
    "        \n",
    "        idx = 0\n",
    "        title=Tex(\"Linear Search\").to_edge(UP,buff=0.5)\n",
    "        \n",
    "        sq = VGroup(*[Rectangle(width=SQUARE_SIZE*3,height=SQUARE_SIZE, color=DARK_GRAY) for i in range(ARRAY_LEN)]).arrange(DOWN, buff=0.1).to_edge(RIGHT, buff=5)\n",
    "        idxs = always_redraw(lambda: VGroup(*[Tex(i,font_size=25, color=LIGHT_GRAY).move_to(sq[i].get_critical_point(LEFT)).shift(LEFT * 0.2) for i in range(ARRAY_LEN)]))\n",
    "        nums = always_redraw(lambda: VGroup(*[Tex(RANDOM_NUMS[i], color=DARK_GRAY).move_to(sq[i].get_critical_point([0,0,0])) for i in range(ARRAY_LEN)]))\n",
    "        \n",
    "        \n",
    "        sq2 = VGroup(*[Rectangle(width=SQUARE_SIZE*5,height=SQUARE_SIZE, color=DARK_GRAY) for i in range(ARRAY_LEN)]).arrange(DOWN, buff=0.1).to_edge(RIGHT)\n",
    "        idxs2 = always_redraw(lambda: VGroup(*[Tex(i,font_size=25, color=LIGHT_GRAY).move_to(sq2[i].get_critical_point(LEFT)).shift(LEFT * 0.2) for i in range(ARRAY_LEN)]))\n",
    "        names = VGroup(*[Tex(RANDOM_NAMES[i], color=DARK_GRAY).move_to(sq2[i].get_critical_point([0,0,0])) for i in range(ARRAY_LEN)])\n",
    "        \n",
    "        target = Tex(\"Target = 852\", font_size=30, color=GREEN).to_edge(UL)\n",
    "        \n",
    "        pointer = Arrow(start=LEFT/4, end=RIGHT, color=YELLOW).next_to(sq[idx], LEFT)\n",
    "        index = always_redraw(lambda: Integer(idx).next_to(pointer, LEFT))\n",
    "        idxLabel = always_redraw(lambda: Text(\"i =\", font_size=30).next_to(index, LEFT, buff=0.1))\n",
    "        timeComp1 = Tex(\"Time Complexity: O(N)\")\n",
    "                        \n",
    "        #self.play(Write(title))\n",
    "        idLabel = Tex(\"IDs\",color=LIGHTER_GRAY).next_to(sq[0], UP)\n",
    "        nameLabel = Tex(\"Names\",color=LIGHTER_GRAY).next_to(sq2[0], UP)\n",
    "        \n",
    "        self.play(Write(VGroup(idLabel,nameLabel)))\n",
    "        self.play(AnimationGroup(*[DrawBorderThenFill(s) for s in sq], *[FadeIn(n) for n in nums],*[FadeIn(i) for i in idxs],*[DrawBorderThenFill(s) for s in sq2], *[FadeIn(n) for n in names],*[FadeIn(i) for i in idxs2], lag_ratio=0.02))        \n",
    "        self.play(Write(target))\n",
    "        self.play(Write(VGroup(index, idxLabel)))\n",
    "        \n",
    "        \n",
    "        sq[0].stroke_color = YELLOW\n",
    "        nums[0].color = WHITE\n",
    "        sq[-1].stroke_color = DARK_GRAY\n",
    "        \n",
    "        for i in range(TARGET_NUM):\n",
    "            self.wait(0.2)\n",
    "            idx += 1\n",
    "            self.play(AnimationGroup(pointer.animate.next_to(sq[idx], LEFT), sq[idx].animate.set_color(YELLOW), nums[idx].animate.set_color(WHITE), sq[idx - 1].animate.set_color(DARK_GRAY), nums[idx - 1].animate.set_color(DARK_GRAY)))\n",
    "            \n",
    "        sq[TARGET_NUM - 1].stroke_color=DARK_GRAY\n",
    "        nums[TARGET_NUM - 1].color=DARK_GRAY\n",
    "        \n",
    "        self.play(AnimationGroup(sq2[TARGET_NUM].animate.set_color(YELLOW), sq[TARGET_NUM].animate.set_color(YELLOW), nums[TARGET_NUM].animate.set_color(RED), names[TARGET_NUM].animate.set_color(RED)))\n",
    "        self.play(Write(timeComp1.to_edge(LEFT, buff=1)))\n",
    "        self.wait()\n",
    "        \n",
    "        # sq2 = VGroup(*[Square(side_length=SQUARE_SIZE/1.7) for i in range(ARRAY_LEN)]).arrange(DOWN, buff=0.1).to_edge(RIGHT)\n",
    "        # idxs2 = always_redraw(lambda: VGroup(*[Tex(i,font_size=25, color=LIGHT_GRAY).move_to(sq2[i].get_critical_point(LEFT)).shift(LEFT * 0.2) for i in range(ARRAY_LEN)]))\n",
    "        # nums2 = always_redraw(lambda: VGroup(*[Tex(RANDOM_NUMS[i], font_size=35).move_to(sq2[i].get_critical_point([0,0,0])) for i in range(ARRAY_LEN)]))\n",
    "        \n",
    "        self.play(FadeOut(VGroup(timeComp1, pointer, idxLabel,index), shift=DOWN))\n",
    "        self.play(AnimationGroup(sq2[TARGET_NUM].animate.set_color(DARK_GRAY), sq[TARGET_NUM].animate.set_color(DARK_GRAY), nums[TARGET_NUM].animate.set_color(DARK_GRAY), names[TARGET_NUM].animate.set_color(DARK_GRAY)))\n",
    "        # self.play(AnimationGroup(ReplacementTransform(sq, sq2),ReplacementTransform(idxs, idxs2),ReplacementTransform(nums, nums2)))        \n",
    "        \n",
    "        funcFrame = Rectangle(width=2, height=1).to_edge(LEFT, buff=2)\n",
    "        hashfnq = Tex(\"HashFunction\").next_to(funcFrame, UP, buff=1)\n",
    "        \n",
    "        self.play(Write(hashfnq))\n",
    "        \n",
    "        fx = Tex(\"f(x)\").next_to(hashfnq, DOWN)\n",
    "        new_target = Tex(\"852\", color=GREEN).move_to(funcFrame.get_critical_point([0,0,0]))\n",
    "        new_index = Tex(\"5\", color=BLUE_C).next_to(funcFrame, RIGHT)\n",
    "        \n",
    "        self.play(AnimationGroup(DrawBorderThenFill(funcFrame), FadeIn(fx)))\n",
    "\n",
    "        self.play(ReplacementTransform(target, new_target))\n",
    "        self.play(Rotate(new_target, -1800*DEGREES))\n",
    "        self.play(ReplacementTransform(target, new_target))        \n",
    "        \n",
    "        arr2 = always_redraw(lambda:Arrow(start=funcFrame.get_critical_point(RIGHT), end=new_index.get_critical_point(LEFT)))\n",
    "        \n",
    "        self.play(ReplacementTransform(new_target, new_index))\n",
    "        self.play(Write(arr2))\n",
    "        self.play(new_index.animate.shift(RIGHT))\n",
    "        \n",
    "        arrow = always_redraw(lambda: Arrow(start=new_index.get_critical_point(RIGHT), end= idxs2[TARGET_NUM].get_critical_point(LEFT)))\n",
    "        \n",
    "        self.play(Write(arrow))\n",
    "        self.play(AnimationGroup(sq2[TARGET_NUM].animate.set_color(YELLOW), names[TARGET_NUM].animate.set_color(RED)))\n",
    "        self.wait()\n",
    "        \n",
    "        new_target = Tex(\"852\", color=GREEN).next_to(funcFrame, LEFT).shift(LEFT/2)\n",
    "        \n",
    "        \n",
    "        arr1 = Arrow(start=new_target.get_critical_point(RIGHT), end=funcFrame.get_critical_point(LEFT))\n",
    "        \n",
    "        key_label = Tex(\"Key\", font_size=25).next_to(new_target, UP)\n",
    "        value_label = Tex(\"Index Of Value\", font_size=25).next_to(new_index, UP)\n",
    "        \n",
    "        self.play(Write(new_target))\n",
    "        self.play(Write(key_label))\n",
    "        self.play(Write(arr1))\n",
    "        self.play(Write(value_label))\n",
    "        self.wait()\n",
    "        self.play(AnimationGroup(sq2[TARGET_NUM].animate.set_color(DARK_GRAY), names[TARGET_NUM].animate.set_color(DARK_GRAY)))\n",
    "        self.play(FadeOut(VGroup(arr1,arr2,arrow,sq,idLabel,idxs,nums,new_target,key_label,new_index,value_label,names), shift=DOWN))\n",
    "        self.wait()\n",
    "\n",
    "        "
   ]
  }
 ],
 "metadata": {
  "kernelspec": {
   "display_name": "Python 3.10.8 64-bit",
   "language": "python",
   "name": "python3"
  },
  "language_info": {
   "codemirror_mode": {
    "name": "ipython",
    "version": 3
   },
   "file_extension": ".py",
   "mimetype": "text/x-python",
   "name": "python",
   "nbconvert_exporter": "python",
   "pygments_lexer": "ipython3",
   "version": "3.10.8"
  },
  "orig_nbformat": 4,
  "vscode": {
   "interpreter": {
    "hash": "369f2c481f4da34e4445cda3fffd2e751bd1c4d706f27375911949ba6bb62e1c"
   }
  }
 },
 "nbformat": 4,
 "nbformat_minor": 2
}
