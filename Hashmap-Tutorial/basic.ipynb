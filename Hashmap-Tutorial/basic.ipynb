{
 "cells": [
  {
   "cell_type": "code",
   "execution_count": null,
   "metadata": {},
   "outputs": [],
   "source": [
    "from manim import *\n",
    "config.media_width = '60%'"
   ]
  },
  {
   "cell_type": "code",
   "execution_count": 90,
   "metadata": {},
   "outputs": [
    {
     "name": "stderr",
     "output_type": "stream",
     "text": [
      "                                                                                             "
     ]
    }
   ],
   "source": [
    "%%manim -v WARNING -qm SequentialSearch\n",
    "class SequentialSearch(Scene):\n",
    "    def construct(self):\n",
    "        SQUARE_SIZE = 0.7\n",
    "        ARRAY_LEN = 15\n",
    "        RANDOM_NUMS = [5,2,1,6,8,3,7,0,9,1,12,15,13,19,22,14]\n",
    "        \n",
    "        idx = 0\n",
    "        title=Tex(\"Linear Search\").to_edge(UL,buff=0.5)\n",
    "        \n",
    "        sq = VGroup(*[Square(side_length=SQUARE_SIZE) for i in range(ARRAY_LEN)]).arrange(RIGHT, buff=0)\n",
    "        nums = VGroup(*[Tex(RANDOM_NUMS[i]).move_to(sq[i].get_critical_point([0,0,0])) for i in range(ARRAY_LEN)])\n",
    "        \n",
    "        target = Tex(\"Target = 12\", font_size=30, color=GREEN).move_to(UP/1.2).align_to(sq[0],LEFT)\n",
    "        \n",
    "        pointer = always_redraw(lambda: Arrow(start=DOWN/4, end=UP).next_to(sq[idx], DOWN))\n",
    "        index =  always_redraw(lambda:Integer(idx).next_to(pointer, DOWN))\n",
    "        #idxLabel = always_redraw(lambda: Text(\"i= \").next_to(index, LEFT))\n",
    "\n",
    "        driver = VGroup(pointer, index)\n",
    "        \n",
    "        self.play(Write(title))\n",
    "        self.play(AnimationGroup(*[DrawBorderThenFill(s) for s in sq], *[FadeIn(n) for n in nums], lag_ratio=0.02))        \n",
    "        self.play(Write(target))\n",
    "        \n",
    "        for i in range(10):\n",
    "            self.wait(0.2)\n",
    "            idx += 1\n",
    "            self.play(driver.animate.next_to(sq[idx], DOWN), rate_func=linear)\n",
    "            \n",
    "        sq[10].stroke_color=RED\n",
    "        nums[10].color=GREEN\n",
    "        self.wait()"
   ]
  },
  {
   "cell_type": "code",
   "execution_count": null,
   "metadata": {},
   "outputs": [],
   "source": []
  }
 ],
 "metadata": {
  "kernelspec": {
   "display_name": "Python 3.10.8 64-bit",
   "language": "python",
   "name": "python3"
  },
  "language_info": {
   "codemirror_mode": {
    "name": "ipython",
    "version": 3
   },
   "file_extension": ".py",
   "mimetype": "text/x-python",
   "name": "python",
   "nbconvert_exporter": "python",
   "pygments_lexer": "ipython3",
   "version": "3.10.8"
  },
  "orig_nbformat": 4,
  "vscode": {
   "interpreter": {
    "hash": "369f2c481f4da34e4445cda3fffd2e751bd1c4d706f27375911949ba6bb62e1c"
   }
  }
 },
 "nbformat": 4,
 "nbformat_minor": 2
}
